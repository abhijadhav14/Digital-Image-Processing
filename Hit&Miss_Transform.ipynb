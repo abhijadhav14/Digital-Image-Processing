{
  "nbformat": 4,
  "nbformat_minor": 0,
  "metadata": {
    "colab": {
      "provenance": [],
      "authorship_tag": "ABX9TyM9ksgiFHMo4ib9IS/sRX4X",
      "include_colab_link": true
    },
    "kernelspec": {
      "name": "python3",
      "display_name": "Python 3"
    },
    "language_info": {
      "name": "python"
    }
  },
  "cells": [
    {
      "cell_type": "markdown",
      "metadata": {
        "id": "view-in-github",
        "colab_type": "text"
      },
      "source": [
        "<a href=\"https://colab.research.google.com/github/abhijadhav14/Digital-Image-Processing/blob/main/Hit%26Miss_Transform.ipynb\" target=\"_parent\"><img src=\"https://colab.research.google.com/assets/colab-badge.svg\" alt=\"Open In Colab\"/></a>"
      ]
    },
    {
      "cell_type": "code",
      "execution_count": 1,
      "metadata": {
        "id": "gIdQCh89cetY"
      },
      "outputs": [],
      "source": [
        "# Import necessary library for visualization\n",
        "import matplotlib.pyplot as plt\n",
        "import numpy as np"
      ]
    },
    {
      "cell_type": "code",
      "source": [
        "# Original Image\n",
        "original_image = [\n",
        "    [0, 0, 1, 0, 0],\n",
        "    [0, 1, 1, 1, 0],\n",
        "    [1, 1, 0, 1, 1],\n",
        "    [0, 1, 1, 1, 0],\n",
        "    [0, 0, 1, 0, 0],\n",
        "]"
      ],
      "metadata": {
        "id": "h7k0LPyIcvQQ"
      },
      "execution_count": 2,
      "outputs": []
    },
    {
      "cell_type": "code",
      "source": [
        "# Convert the list to a NumPy array for easier manipulation\n",
        "original_image_np = np.array(original_image)"
      ],
      "metadata": {
        "id": "TUz2-zRscxQt"
      },
      "execution_count": 3,
      "outputs": []
    },
    {
      "cell_type": "code",
      "source": [
        "# Print the shape (dimensions) of the image array\n",
        "print(\"Original Image Matrix Shape:\", original_image_np.shape)"
      ],
      "metadata": {
        "colab": {
          "base_uri": "https://localhost:8080/"
        },
        "id": "PFo5-cA-c0lo",
        "outputId": "86ee5814-4718-417a-d094-d028d75a2bd4"
      },
      "execution_count": 4,
      "outputs": [
        {
          "output_type": "stream",
          "name": "stdout",
          "text": [
            "Original Image Matrix Shape: (5, 5)\n"
          ]
        }
      ]
    },
    {
      "cell_type": "code",
      "source": [
        "# Display the original image\n",
        "plt.imshow(original_image, cmap='gray')\n",
        "plt.title('Original Image')\n",
        "plt.show()"
      ],
      "metadata": {
        "colab": {
          "base_uri": "https://localhost:8080/",
          "height": 452
        },
        "id": "YD9B6yutc2XC",
        "outputId": "b291c78c-499c-461c-d943-de43a866b4ad"
      },
      "execution_count": 5,
      "outputs": [
        {
          "output_type": "display_data",
          "data": {
            "text/plain": [
              "<Figure size 640x480 with 1 Axes>"
            ],
            "image/png": "[encoded data removed]"
          },
          "metadata": {}
        }
      ]
    },
    {
      "cell_type": "code",
      "source": [
        "# Hit Pattern\n",
        "hit_pattern = [\n",
        "    [0, 1, 0],\n",
        "    [1, 0, 1],\n",
        "    [0, 1, 0],\n",
        "]"
      ],
      "metadata": {
        "id": "amxCohSJc4jV"
      },
      "execution_count": 25,
      "outputs": []
    },
    {
      "cell_type": "code",
      "source": [
        "# Hit-and-transform function\n",
        "def hit_and_transform(image, hit_pattern, transform_value):\n",
        "    rows, cols = len(image), len(image[0])\n",
        "    hit_rows, hit_cols = len(hit_pattern), len(hit_pattern[0])\n",
        "    output_image = [[0 for _ in range(cols)] for _ in range(rows)]\n",
        "\n",
        "    # Loop through each pixel, ensuring the hit pattern fits within boundaries\n",
        "    for i in range(rows - hit_rows + 1):\n",
        "        for j in range(cols - hit_cols + 1):\n",
        "            match = True\n",
        "            # Check if the hit pattern matches the region in the image\n",
        "            for x in range(hit_rows):\n",
        "                for y in range(hit_cols):\n",
        "                    if hit_pattern[x][y] == 1 and image[i + x][j + y] != 1:\n",
        "                        match = False\n",
        "                        break\n",
        "                if not match:\n",
        "                    break\n",
        "            # If a match is found, update the center of the matched region\n",
        "            if match:\n",
        "                output_image[i + hit_rows // 2][j + hit_cols // 2] = transform_value\n",
        "\n",
        "    return output_image"
      ],
      "metadata": {
        "id": "jBqezXLPc80q"
      },
      "execution_count": 27,
      "outputs": []
    },
    {
      "cell_type": "code",
      "source": [
        "# Apply the transformation\n",
        "transformed_image = hit_and_transform(original_image, hit_pattern, 1)"
      ],
      "metadata": {
        "id": "hDN_Vh9gdAnC"
      },
      "execution_count": 28,
      "outputs": []
    },
    {
      "cell_type": "code",
      "source": [
        "# Print the results\n",
        "print(\"Original Image Matrix:\")\n",
        "for row in original_image:\n",
        "    print(row)"
      ],
      "metadata": {
        "colab": {
          "base_uri": "https://localhost:8080/"
        },
        "id": "TqB10pi3dDQR",
        "outputId": "138e9e74-120d-437a-f92a-c4ec0fb06e3c"
      },
      "execution_count": 29,
      "outputs": [
        {
          "output_type": "stream",
          "name": "stdout",
          "text": [
            "Original Image Matrix:\n",
            "[0, 0, 1, 0, 0]\n",
            "[0, 1, 1, 1, 0]\n",
            "[1, 1, 0, 1, 1]\n",
            "[0, 1, 1, 1, 0]\n",
            "[0, 0, 1, 0, 0]\n"
          ]
        }
      ]
    },
    {
      "cell_type": "code",
      "source": [
        "\n",
        "print(\"\\nTransformed Image Matrix:\")\n",
        "for row in transformed_image:\n",
        "    print(row)"
      ],
      "metadata": {
        "colab": {
          "base_uri": "https://localhost:8080/"
        },
        "id": "1DJzoucRdMGD",
        "outputId": "714f869e-77fa-45df-9abf-4f3f9ca774b2"
      },
      "execution_count": 30,
      "outputs": [
        {
          "output_type": "stream",
          "name": "stdout",
          "text": [
            "\n",
            "Transformed Image Matrix:\n",
            "[0, 0, 0, 0, 0]\n",
            "[0, 0, 0, 0, 0]\n",
            "[0, 0, 1, 0, 0]\n",
            "[0, 0, 0, 0, 0]\n",
            "[0, 0, 0, 0, 0]\n"
          ]
        }
      ]
    },
    {
      "cell_type": "code",
      "source": [
        "# Visualization function\n",
        "def visualize_images(original, transformed):\n",
        "    fig, axes = plt.subplots(1, 2, figsize=(10, 5))\n",
        "    axes[0].imshow(original, cmap=\"gray\", vmin=0, vmax=1)\n",
        "    axes[0].set_title(\"Original Image\")\n",
        "    axes[0].axis(\"off\")\n",
        "    axes[1].imshow(transformed, cmap=\"gray\", vmin=0, vmax=1)\n",
        "    axes[1].set_title(\"Transformed Image\")\n",
        "    axes[1].axis(\"off\")\n",
        "    plt.show()"
      ],
      "metadata": {
        "id": "AAVp0Az8dMdl"
      },
      "execution_count": 31,
      "outputs": []
    },
    {
      "cell_type": "code",
      "source": [
        "# Visualize results\n",
        "visualize_images(original_image, transformed_image)"
      ],
      "metadata": {
        "colab": {
          "base_uri": "https://localhost:8080/",
          "height": 411
        },
        "id": "oYXryu_dd_qi",
        "outputId": "4c4c4daf-a082-4c6e-f876-e20ecd400bd8"
      },
      "execution_count": 32,
      "outputs": [
        {
          "output_type": "display_data",
          "data": {
            "text/plain": [
              "<Figure size 1000x500 with 2 Axes>"
            ],
            "image/png": "[encoded data removed]"
          },
          "metadata": {}
        }
      ]
    },
    {
      "cell_type": "code",
      "source": [],
      "metadata": {
        "id": "2BDVrqqheB16"
      },
      "execution_count": null,
      "outputs": []
    }
  ]
}