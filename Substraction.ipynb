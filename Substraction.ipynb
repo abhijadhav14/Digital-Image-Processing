{
  "nbformat": 4,
  "nbformat_minor": 0,
  "metadata": {
    "colab": {
      "provenance": []
    },
    "kernelspec": {
      "name": "python3",
      "display_name": "Python 3"
    },
    "language_info": {
      "name": "python"
    }
  },
  "cells": [
    {
      "cell_type": "code",
      "source": [
        "import numpy as np\n",
        "from matplotlib import pyplot as plt\n",
        "\n",
        "def subtract_images(image1, image2):\n",
        "\n",
        "    # Ensure the images have the same dimensions\n",
        "    if image1.shape != image2.shape:\n",
        "        raise ValueError(\"Both images must have the same dimensions.\")\n",
        "\n",
        "    # Perform subtraction and clip values to be within valid range (0-255)\n",
        "    result_image = np.clip(image1.astype(int) - image2.astype(int), 0, 255).astype(np.uint8)\n",
        "\n",
        "    return result_image\n"
      ],
      "metadata": {
        "id": "_BCewZ0oPTa_"
      },
      "execution_count": 2,
      "outputs": []
    },
    {
      "cell_type": "code",
      "source": [
        "# Define two sample 3x3 grayscale images\n",
        "image1 = np.array([\n",
        "    [200, 220, 240],\n",
        "    [180, 200, 220],\n",
        "    [160, 180, 200]\n",
        "], dtype=np.uint8)\n",
        "\n",
        "image2 = np.array([\n",
        "    [100, 110, 120],\n",
        "    [90, 100, 110],\n",
        "    [80, 90, 100]\n",
        "], dtype=np.uint8)\n"
      ],
      "metadata": {
        "id": "8lM5clrXPkyO"
      },
      "execution_count": 3,
      "outputs": []
    },
    {
      "cell_type": "code",
      "source": [
        "# Perform subtraction\n",
        "subtracted_image = subtract_images(image1, image2)"
      ],
      "metadata": {
        "id": "duzecNZPPqDU"
      },
      "execution_count": 4,
      "outputs": []
    },
    {
      "cell_type": "code",
      "source": [
        "# Display the original and subtracted images\n",
        "plt.figure(figsize=(15, 5))\n",
        "\n",
        "plt.subplot(1, 3, 1)\n",
        "plt.title(\"Image 1\")\n",
        "plt.imshow(image1, cmap='gray', vmin=0, vmax=255)\n",
        "plt.axis('off')\n",
        "\n",
        "plt.subplot(1, 3, 2)\n",
        "plt.title(\"Image 2\")\n",
        "plt.imshow(image2, cmap='gray', vmin=0, vmax=255)\n",
        "plt.axis('off')\n",
        "\n",
        "plt.subplot(1, 3, 3)\n",
        "plt.title(\"Subtracted Image\")\n",
        "plt.imshow(subtracted_image, cmap='gray', vmin=0, vmax=255)\n",
        "plt.axis('off')\n",
        "\n",
        "plt.show()\n"
      ],
      "metadata": {
        "colab": {
          "base_uri": "https://localhost:8080/",
          "height": 401
        },
        "id": "mcY9aNJ_Ptq6",
        "outputId": "1f0c57d9-c5cf-4bd1-f210-5120e1a67e22"
      },
      "execution_count": 5,
      "outputs": [
        {
          "output_type": "display_data",
          "data": {
            "text/plain": [
              "<Figure size 1500x500 with 3 Axes>"
            ],
            "image/png": "[encoded data removed]"
          },
          "metadata": {}
        }
      ]
    },
    {
      "cell_type": "code",
      "source": [],
      "metadata": {
        "id": "lKAO-leqPxgm"
      },
      "execution_count": null,
      "outputs": []
    }
  ]
}