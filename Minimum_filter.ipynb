{
  "nbformat": 4,
  "nbformat_minor": 0,
  "metadata": {
    "colab": {
      "provenance": []
    },
    "kernelspec": {
      "name": "python3",
      "display_name": "Python 3"
    },
    "language_info": {
      "name": "python"
    }
  },
  "cells": [
    {
      "cell_type": "code",
      "source": [
        "import numpy as np\n",
        "from matplotlib import pyplot as plt\n",
        "\n",
        "def apply_min_filter(image, filter_size):\n",
        "    \"\"\"\n",
        "    Applies a minimum filter to the given image.\n",
        "\n",
        "    :param image: Input grayscale image as a 2D numpy array\n",
        "    :param filter_size: Size of the square filter kernel (must be an odd number)\n",
        "    :return: Filtered image as a 2D numpy array\n",
        "    \"\"\"\n",
        "    # Padding size\n",
        "    pad_size = filter_size // 2\n",
        "\n",
        "    # Create a padded version of the image\n",
        "    padded_image = np.pad(image, pad_size, mode='constant', constant_values=255)\n",
        "\n",
        "    # Prepare the output image\n",
        "    filtered_image = np.zeros_like(image)\n",
        "\n",
        "    # Iterate over every pixel in the original image\n",
        "    for i in range(image.shape[0]):\n",
        "        for j in range(image.shape[1]):\n",
        "            # Extract the neighborhood\n",
        "            neighborhood = padded_image[i:i + filter_size, j:j + filter_size]\n",
        "\n",
        "            # Find the minimum value in the neighborhood\n",
        "            min_value = np.min(neighborhood)\n",
        "\n",
        "            # Assign the minimum value to the filtered image\n",
        "            filtered_image[i, j] = min_value\n",
        "\n",
        "    return filtered_image\n",
        "\n",
        "# Define a sample 3x3 grayscale image\n",
        "original_image = np.array([\n",
        "    [123, 150, 200],\n",
        "    [80, 100, 180],\n",
        "    [90, 120, 160]\n",
        "], dtype=np.uint8)\n",
        "\n",
        "# Apply the minimum filter\n",
        "filter_size = 3  # Example filter size\n",
        "filtered_image = apply_min_filter(original_image, filter_size)\n",
        "\n",
        "# Display the original and filtered images\n",
        "plt.figure(figsize=(10, 5))\n",
        "\n",
        "plt.subplot(1, 2, 1)\n",
        "plt.title(\"Original Image\")\n",
        "plt.imshow(original_image, cmap='gray', vmin=0, vmax=255)\n",
        "plt.axis('off')\n",
        "\n",
        "plt.subplot(1, 2, 2)\n",
        "plt.title(f\"Filtered Image (Min Filter {filter_size}x{filter_size})\")\n",
        "plt.imshow(filtered_image, cmap='gray', vmin=0, vmax=255)\n",
        "plt.axis('off')\n",
        "\n",
        "plt.show()"
      ],
      "metadata": {
        "colab": {
          "base_uri": "https://localhost:8080/",
          "height": 411
        },
        "id": "wsdxyhyTBCyW",
        "outputId": "ce2a760f-999c-489f-ddaa-f3837c076606"
      },
      "execution_count": 2,
      "outputs": [
        {
          "output_type": "display_data",
          "data": {
            "text/plain": [
              "<Figure size 1000x500 with 2 Axes>"
            ],
            "image/png": "[encoded data removed]"
          },
          "metadata": {}
        }
      ]
    },
    {
      "cell_type": "code",
      "source": [],
      "metadata": {
        "id": "FVZRlA_6B5r_"
      },
      "execution_count": null,
      "outputs": []
    }
  ]
}